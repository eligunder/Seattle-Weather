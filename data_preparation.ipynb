{
  "nbformat": 4,
  "nbformat_minor": 0,
  "metadata": {
    "colab": {
      "provenance": []
    },
    "kernelspec": {
      "name": "python3",
      "display_name": "Python 3"
    },
    "language_info": {
      "name": "python"
    }
  },
  "cells": [
    {
      "cell_type": "markdown",
      "source": [
        "#Import relevant packages"
      ],
      "metadata": {
        "id": "8wViV3-LOlqk"
      }
    },
    {
      "cell_type": "code",
      "execution_count": 81,
      "metadata": {
        "id": "vKf7nCJR4pvW"
      },
      "outputs": [],
      "source": [
        "import pandas as pd\n",
        "import numpy as np\n",
        "import matplotlib.pyplot as plt\n",
        "import seaborn as sns\n",
        "sns.set_theme(style='whitegrid')\n",
        "import missingno as msno\n",
        "import datetime"
      ]
    },
    {
      "cell_type": "markdown",
      "source": [
        "#Load in Data"
      ],
      "metadata": {
        "id": "bCgFJy6IOuH-"
      }
    },
    {
      "cell_type": "code",
      "source": [
        "df_seattle = pd.read_csv('https://raw.githubusercontent.com/galenegan/DATA-3320/main/weather/seattle_rain.csv')"
      ],
      "metadata": {
        "id": "PPx4EjHt4yGn"
      },
      "execution_count": 82,
      "outputs": []
    },
    {
      "cell_type": "code",
      "source": [
        "df_ny = pd.read_csv('https://raw.githubusercontent.com/galenegan/DATA-3320/main/weather/ny_rain.csv')"
      ],
      "metadata": {
        "id": "TXHfmaF440IW"
      },
      "execution_count": 83,
      "outputs": []
    },
    {
      "cell_type": "markdown",
      "source": [
        "##print out the dataframes to see data and headers"
      ],
      "metadata": {
        "id": "nSDKeiw2O1n5"
      }
    },
    {
      "cell_type": "code",
      "source": [
        "df_seattle.head()"
      ],
      "metadata": {
        "colab": {
          "base_uri": "https://localhost:8080/",
          "height": 206
        },
        "id": "Vg8DGL1342p6",
        "outputId": "6a0f3e14-563d-467d-bd2e-1a179415c824"
      },
      "execution_count": 84,
      "outputs": [
        {
          "output_type": "execute_result",
          "data": {
            "text/plain": [
              "       STATION                    NAME   LATITUDE   LONGITUDE  ELEVATION  \\\n",
              "0  US1WAKG0199    SEATTLE 4.5 N, WA US  47.686424 -122.362209       82.9   \n",
              "1  US1WAKG0255  SEATTLE 6.5 SSW, WA US  47.530849 -122.382541      135.0   \n",
              "2  US1WAKG0243  SEATTLE 3.9 SSW, WA US  47.567666 -122.372386       48.2   \n",
              "3  US1WAKG0145    SEATTLE 4.2 N, WA US  47.681873 -122.365539       74.1   \n",
              "4  US1WAKG0192    SEATTLE 5.6 N, WA US  47.702387 -122.351663      112.5   \n",
              "\n",
              "         DATE  DAPR  MDPR  PRCP  SNOW  SNWD  DASF  MDSF  \n",
              "0  2020-01-01   NaN   NaN  0.19   NaN   NaN   NaN   NaN  \n",
              "1  2020-01-01   NaN   NaN  0.23   NaN   NaN   NaN   NaN  \n",
              "2  2020-01-01   NaN   NaN  0.19   NaN   NaN   NaN   NaN  \n",
              "3  2020-01-01   NaN   NaN  0.13   NaN   NaN   NaN   NaN  \n",
              "4  2020-01-01   NaN   NaN  0.22   NaN   NaN   NaN   NaN  "
            ],
            "text/html": [
              "\n",
              "  <div id=\"df-6b0e725a-1c59-4802-830f-071c0ba6bbf0\" class=\"colab-df-container\">\n",
              "    <div>\n",
              "<style scoped>\n",
              "    .dataframe tbody tr th:only-of-type {\n",
              "        vertical-align: middle;\n",
              "    }\n",
              "\n",
              "    .dataframe tbody tr th {\n",
              "        vertical-align: top;\n",
              "    }\n",
              "\n",
              "    .dataframe thead th {\n",
              "        text-align: right;\n",
              "    }\n",
              "</style>\n",
              "<table border=\"1\" class=\"dataframe\">\n",
              "  <thead>\n",
              "    <tr style=\"text-align: right;\">\n",
              "      <th></th>\n",
              "      <th>STATION</th>\n",
              "      <th>NAME</th>\n",
              "      <th>LATITUDE</th>\n",
              "      <th>LONGITUDE</th>\n",
              "      <th>ELEVATION</th>\n",
              "      <th>DATE</th>\n",
              "      <th>DAPR</th>\n",
              "      <th>MDPR</th>\n",
              "      <th>PRCP</th>\n",
              "      <th>SNOW</th>\n",
              "      <th>SNWD</th>\n",
              "      <th>DASF</th>\n",
              "      <th>MDSF</th>\n",
              "    </tr>\n",
              "  </thead>\n",
              "  <tbody>\n",
              "    <tr>\n",
              "      <th>0</th>\n",
              "      <td>US1WAKG0199</td>\n",
              "      <td>SEATTLE 4.5 N, WA US</td>\n",
              "      <td>47.686424</td>\n",
              "      <td>-122.362209</td>\n",
              "      <td>82.9</td>\n",
              "      <td>2020-01-01</td>\n",
              "      <td>NaN</td>\n",
              "      <td>NaN</td>\n",
              "      <td>0.19</td>\n",
              "      <td>NaN</td>\n",
              "      <td>NaN</td>\n",
              "      <td>NaN</td>\n",
              "      <td>NaN</td>\n",
              "    </tr>\n",
              "    <tr>\n",
              "      <th>1</th>\n",
              "      <td>US1WAKG0255</td>\n",
              "      <td>SEATTLE 6.5 SSW, WA US</td>\n",
              "      <td>47.530849</td>\n",
              "      <td>-122.382541</td>\n",
              "      <td>135.0</td>\n",
              "      <td>2020-01-01</td>\n",
              "      <td>NaN</td>\n",
              "      <td>NaN</td>\n",
              "      <td>0.23</td>\n",
              "      <td>NaN</td>\n",
              "      <td>NaN</td>\n",
              "      <td>NaN</td>\n",
              "      <td>NaN</td>\n",
              "    </tr>\n",
              "    <tr>\n",
              "      <th>2</th>\n",
              "      <td>US1WAKG0243</td>\n",
              "      <td>SEATTLE 3.9 SSW, WA US</td>\n",
              "      <td>47.567666</td>\n",
              "      <td>-122.372386</td>\n",
              "      <td>48.2</td>\n",
              "      <td>2020-01-01</td>\n",
              "      <td>NaN</td>\n",
              "      <td>NaN</td>\n",
              "      <td>0.19</td>\n",
              "      <td>NaN</td>\n",
              "      <td>NaN</td>\n",
              "      <td>NaN</td>\n",
              "      <td>NaN</td>\n",
              "    </tr>\n",
              "    <tr>\n",
              "      <th>3</th>\n",
              "      <td>US1WAKG0145</td>\n",
              "      <td>SEATTLE 4.2 N, WA US</td>\n",
              "      <td>47.681873</td>\n",
              "      <td>-122.365539</td>\n",
              "      <td>74.1</td>\n",
              "      <td>2020-01-01</td>\n",
              "      <td>NaN</td>\n",
              "      <td>NaN</td>\n",
              "      <td>0.13</td>\n",
              "      <td>NaN</td>\n",
              "      <td>NaN</td>\n",
              "      <td>NaN</td>\n",
              "      <td>NaN</td>\n",
              "    </tr>\n",
              "    <tr>\n",
              "      <th>4</th>\n",
              "      <td>US1WAKG0192</td>\n",
              "      <td>SEATTLE 5.6 N, WA US</td>\n",
              "      <td>47.702387</td>\n",
              "      <td>-122.351663</td>\n",
              "      <td>112.5</td>\n",
              "      <td>2020-01-01</td>\n",
              "      <td>NaN</td>\n",
              "      <td>NaN</td>\n",
              "      <td>0.22</td>\n",
              "      <td>NaN</td>\n",
              "      <td>NaN</td>\n",
              "      <td>NaN</td>\n",
              "      <td>NaN</td>\n",
              "    </tr>\n",
              "  </tbody>\n",
              "</table>\n",
              "</div>\n",
              "    <div class=\"colab-df-buttons\">\n",
              "\n",
              "  <div class=\"colab-df-container\">\n",
              "    <button class=\"colab-df-convert\" onclick=\"convertToInteractive('df-6b0e725a-1c59-4802-830f-071c0ba6bbf0')\"\n",
              "            title=\"Convert this dataframe to an interactive table.\"\n",
              "            style=\"display:none;\">\n",
              "\n",
              "  <svg xmlns=\"http://www.w3.org/2000/svg\" height=\"24px\" viewBox=\"0 -960 960 960\">\n",
              "    <path d=\"M120-120v-720h720v720H120Zm60-500h600v-160H180v160Zm220 220h160v-160H400v160Zm0 220h160v-160H400v160ZM180-400h160v-160H180v160Zm440 0h160v-160H620v160ZM180-180h160v-160H180v160Zm440 0h160v-160H620v160Z\"/>\n",
              "  </svg>\n",
              "    </button>\n",
              "\n",
              "  <style>\n",
              "    .colab-df-container {\n",
              "      display:flex;\n",
              "      gap: 12px;\n",
              "    }\n",
              "\n",
              "    .colab-df-convert {\n",
              "      background-color: #E8F0FE;\n",
              "      border: none;\n",
              "      border-radius: 50%;\n",
              "      cursor: pointer;\n",
              "      display: none;\n",
              "      fill: #1967D2;\n",
              "      height: 32px;\n",
              "      padding: 0 0 0 0;\n",
              "      width: 32px;\n",
              "    }\n",
              "\n",
              "    .colab-df-convert:hover {\n",
              "      background-color: #E2EBFA;\n",
              "      box-shadow: 0px 1px 2px rgba(60, 64, 67, 0.3), 0px 1px 3px 1px rgba(60, 64, 67, 0.15);\n",
              "      fill: #174EA6;\n",
              "    }\n",
              "\n",
              "    .colab-df-buttons div {\n",
              "      margin-bottom: 4px;\n",
              "    }\n",
              "\n",
              "    [theme=dark] .colab-df-convert {\n",
              "      background-color: #3B4455;\n",
              "      fill: #D2E3FC;\n",
              "    }\n",
              "\n",
              "    [theme=dark] .colab-df-convert:hover {\n",
              "      background-color: #434B5C;\n",
              "      box-shadow: 0px 1px 3px 1px rgba(0, 0, 0, 0.15);\n",
              "      filter: drop-shadow(0px 1px 2px rgba(0, 0, 0, 0.3));\n",
              "      fill: #FFFFFF;\n",
              "    }\n",
              "  </style>\n",
              "\n",
              "    <script>\n",
              "      const buttonEl =\n",
              "        document.querySelector('#df-6b0e725a-1c59-4802-830f-071c0ba6bbf0 button.colab-df-convert');\n",
              "      buttonEl.style.display =\n",
              "        google.colab.kernel.accessAllowed ? 'block' : 'none';\n",
              "\n",
              "      async function convertToInteractive(key) {\n",
              "        const element = document.querySelector('#df-6b0e725a-1c59-4802-830f-071c0ba6bbf0');\n",
              "        const dataTable =\n",
              "          await google.colab.kernel.invokeFunction('convertToInteractive',\n",
              "                                                    [key], {});\n",
              "        if (!dataTable) return;\n",
              "\n",
              "        const docLinkHtml = 'Like what you see? Visit the ' +\n",
              "          '<a target=\"_blank\" href=https://colab.research.google.com/notebooks/data_table.ipynb>data table notebook</a>'\n",
              "          + ' to learn more about interactive tables.';\n",
              "        element.innerHTML = '';\n",
              "        dataTable['output_type'] = 'display_data';\n",
              "        await google.colab.output.renderOutput(dataTable, element);\n",
              "        const docLink = document.createElement('div');\n",
              "        docLink.innerHTML = docLinkHtml;\n",
              "        element.appendChild(docLink);\n",
              "      }\n",
              "    </script>\n",
              "  </div>\n",
              "\n",
              "\n",
              "<div id=\"df-2590d7f3-cd23-4056-8f9c-01556a39268b\">\n",
              "  <button class=\"colab-df-quickchart\" onclick=\"quickchart('df-2590d7f3-cd23-4056-8f9c-01556a39268b')\"\n",
              "            title=\"Suggest charts\"\n",
              "            style=\"display:none;\">\n",
              "\n",
              "<svg xmlns=\"http://www.w3.org/2000/svg\" height=\"24px\"viewBox=\"0 0 24 24\"\n",
              "     width=\"24px\">\n",
              "    <g>\n",
              "        <path d=\"M19 3H5c-1.1 0-2 .9-2 2v14c0 1.1.9 2 2 2h14c1.1 0 2-.9 2-2V5c0-1.1-.9-2-2-2zM9 17H7v-7h2v7zm4 0h-2V7h2v10zm4 0h-2v-4h2v4z\"/>\n",
              "    </g>\n",
              "</svg>\n",
              "  </button>\n",
              "\n",
              "<style>\n",
              "  .colab-df-quickchart {\n",
              "      --bg-color: #E8F0FE;\n",
              "      --fill-color: #1967D2;\n",
              "      --hover-bg-color: #E2EBFA;\n",
              "      --hover-fill-color: #174EA6;\n",
              "      --disabled-fill-color: #AAA;\n",
              "      --disabled-bg-color: #DDD;\n",
              "  }\n",
              "\n",
              "  [theme=dark] .colab-df-quickchart {\n",
              "      --bg-color: #3B4455;\n",
              "      --fill-color: #D2E3FC;\n",
              "      --hover-bg-color: #434B5C;\n",
              "      --hover-fill-color: #FFFFFF;\n",
              "      --disabled-bg-color: #3B4455;\n",
              "      --disabled-fill-color: #666;\n",
              "  }\n",
              "\n",
              "  .colab-df-quickchart {\n",
              "    background-color: var(--bg-color);\n",
              "    border: none;\n",
              "    border-radius: 50%;\n",
              "    cursor: pointer;\n",
              "    display: none;\n",
              "    fill: var(--fill-color);\n",
              "    height: 32px;\n",
              "    padding: 0;\n",
              "    width: 32px;\n",
              "  }\n",
              "\n",
              "  .colab-df-quickchart:hover {\n",
              "    background-color: var(--hover-bg-color);\n",
              "    box-shadow: 0 1px 2px rgba(60, 64, 67, 0.3), 0 1px 3px 1px rgba(60, 64, 67, 0.15);\n",
              "    fill: var(--button-hover-fill-color);\n",
              "  }\n",
              "\n",
              "  .colab-df-quickchart-complete:disabled,\n",
              "  .colab-df-quickchart-complete:disabled:hover {\n",
              "    background-color: var(--disabled-bg-color);\n",
              "    fill: var(--disabled-fill-color);\n",
              "    box-shadow: none;\n",
              "  }\n",
              "\n",
              "  .colab-df-spinner {\n",
              "    border: 2px solid var(--fill-color);\n",
              "    border-color: transparent;\n",
              "    border-bottom-color: var(--fill-color);\n",
              "    animation:\n",
              "      spin 1s steps(1) infinite;\n",
              "  }\n",
              "\n",
              "  @keyframes spin {\n",
              "    0% {\n",
              "      border-color: transparent;\n",
              "      border-bottom-color: var(--fill-color);\n",
              "      border-left-color: var(--fill-color);\n",
              "    }\n",
              "    20% {\n",
              "      border-color: transparent;\n",
              "      border-left-color: var(--fill-color);\n",
              "      border-top-color: var(--fill-color);\n",
              "    }\n",
              "    30% {\n",
              "      border-color: transparent;\n",
              "      border-left-color: var(--fill-color);\n",
              "      border-top-color: var(--fill-color);\n",
              "      border-right-color: var(--fill-color);\n",
              "    }\n",
              "    40% {\n",
              "      border-color: transparent;\n",
              "      border-right-color: var(--fill-color);\n",
              "      border-top-color: var(--fill-color);\n",
              "    }\n",
              "    60% {\n",
              "      border-color: transparent;\n",
              "      border-right-color: var(--fill-color);\n",
              "    }\n",
              "    80% {\n",
              "      border-color: transparent;\n",
              "      border-right-color: var(--fill-color);\n",
              "      border-bottom-color: var(--fill-color);\n",
              "    }\n",
              "    90% {\n",
              "      border-color: transparent;\n",
              "      border-bottom-color: var(--fill-color);\n",
              "    }\n",
              "  }\n",
              "</style>\n",
              "\n",
              "  <script>\n",
              "    async function quickchart(key) {\n",
              "      const quickchartButtonEl =\n",
              "        document.querySelector('#' + key + ' button');\n",
              "      quickchartButtonEl.disabled = true;  // To prevent multiple clicks.\n",
              "      quickchartButtonEl.classList.add('colab-df-spinner');\n",
              "      try {\n",
              "        const charts = await google.colab.kernel.invokeFunction(\n",
              "            'suggestCharts', [key], {});\n",
              "      } catch (error) {\n",
              "        console.error('Error during call to suggestCharts:', error);\n",
              "      }\n",
              "      quickchartButtonEl.classList.remove('colab-df-spinner');\n",
              "      quickchartButtonEl.classList.add('colab-df-quickchart-complete');\n",
              "    }\n",
              "    (() => {\n",
              "      let quickchartButtonEl =\n",
              "        document.querySelector('#df-2590d7f3-cd23-4056-8f9c-01556a39268b button');\n",
              "      quickchartButtonEl.style.display =\n",
              "        google.colab.kernel.accessAllowed ? 'block' : 'none';\n",
              "    })();\n",
              "  </script>\n",
              "</div>\n",
              "\n",
              "    </div>\n",
              "  </div>\n"
            ],
            "application/vnd.google.colaboratory.intrinsic+json": {
              "type": "dataframe",
              "variable_name": "df_seattle",
              "summary": "{\n  \"name\": \"df_seattle\",\n  \"rows\": 7003,\n  \"fields\": [\n    {\n      \"column\": \"STATION\",\n      \"properties\": {\n        \"dtype\": \"category\",\n        \"num_unique_values\": 10,\n        \"samples\": [\n          \"US1WAKG0229\",\n          \"US1WAKG0255\",\n          \"US1WAKG0225\"\n        ],\n        \"semantic_type\": \"\",\n        \"description\": \"\"\n      }\n    },\n    {\n      \"column\": \"NAME\",\n      \"properties\": {\n        \"dtype\": \"category\",\n        \"num_unique_values\": 10,\n        \"samples\": [\n          \"SEATTLE 5.5 NNE, WA US\",\n          \"SEATTLE 6.5 SSW, WA US\",\n          \"SEATTLE 2.1 ESE, WA US\"\n        ],\n        \"semantic_type\": \"\",\n        \"description\": \"\"\n      }\n    },\n    {\n      \"column\": \"LATITUDE\",\n      \"properties\": {\n        \"dtype\": \"number\",\n        \"std\": 0.09180704401905701,\n        \"min\": 47.44467,\n        \"max\": 47.702386999,\n        \"num_unique_values\": 10,\n        \"samples\": [\n          47.696532,\n          47.530849,\n          47.6117\n        ],\n        \"semantic_type\": \"\",\n        \"description\": \"\"\n      }\n    },\n    {\n      \"column\": \"LONGITUDE\",\n      \"properties\": {\n        \"dtype\": \"number\",\n        \"std\": 0.023108103385417154,\n        \"min\": -122.382541,\n        \"max\": -122.30381,\n        \"num_unique_values\": 10,\n        \"samples\": [\n          -122.312907,\n          -122.382541,\n          -122.3085\n        ],\n        \"semantic_type\": \"\",\n        \"description\": \"\"\n      }\n    },\n    {\n      \"column\": \"ELEVATION\",\n      \"properties\": {\n        \"dtype\": \"number\",\n        \"std\": 31.391744348613482,\n        \"min\": 37.2,\n        \"max\": 135.6,\n        \"num_unique_values\": 9,\n        \"samples\": [\n          135.6,\n          135.0,\n          121.3\n        ],\n        \"semantic_type\": \"\",\n        \"description\": \"\"\n      }\n    },\n    {\n      \"column\": \"DATE\",\n      \"properties\": {\n        \"dtype\": \"object\",\n        \"num_unique_values\": 1461,\n        \"samples\": [\n          \"2022-06-11\",\n          \"2023-01-10\",\n          \"2021-02-17\"\n        ],\n        \"semantic_type\": \"\",\n        \"description\": \"\"\n      }\n    },\n    {\n      \"column\": \"DAPR\",\n      \"properties\": {\n        \"dtype\": \"number\",\n        \"std\": 6.7233245260039265,\n        \"min\": 2.0,\n        \"max\": 53.0,\n        \"num_unique_values\": 21,\n        \"samples\": [\n          12.0,\n          27.0,\n          53.0\n        ],\n        \"semantic_type\": \"\",\n        \"description\": \"\"\n      }\n    },\n    {\n      \"column\": \"MDPR\",\n      \"properties\": {\n        \"dtype\": \"number\",\n        \"std\": 1.585582868411866,\n        \"min\": 0.0,\n        \"max\": 11.4,\n        \"num_unique_values\": 88,\n        \"samples\": [\n          1.03,\n          1.44,\n          1.04\n        ],\n        \"semantic_type\": \"\",\n        \"description\": \"\"\n      }\n    },\n    {\n      \"column\": \"PRCP\",\n      \"properties\": {\n        \"dtype\": \"number\",\n        \"std\": 0.2702024403528675,\n        \"min\": 0.0,\n        \"max\": 3.01,\n        \"num_unique_values\": 170,\n        \"samples\": [\n          1.24,\n          0.05,\n          2.42\n        ],\n        \"semantic_type\": \"\",\n        \"description\": \"\"\n      }\n    },\n    {\n      \"column\": \"SNOW\",\n      \"properties\": {\n        \"dtype\": \"number\",\n        \"std\": 0.46682094747878616,\n        \"min\": 0.0,\n        \"max\": 10.0,\n        \"num_unique_values\": 32,\n        \"samples\": [\n          1.5,\n          8.9,\n          2.9\n        ],\n        \"semantic_type\": \"\",\n        \"description\": \"\"\n      }\n    },\n    {\n      \"column\": \"SNWD\",\n      \"properties\": {\n        \"dtype\": \"number\",\n        \"std\": 0.9605762681418344,\n        \"min\": 0.0,\n        \"max\": 11.0,\n        \"num_unique_values\": 29,\n        \"samples\": [\n          0.1,\n          4.0,\n          11.0\n        ],\n        \"semantic_type\": \"\",\n        \"description\": \"\"\n      }\n    },\n    {\n      \"column\": \"DASF\",\n      \"properties\": {\n        \"dtype\": \"number\",\n        \"std\": null,\n        \"min\": null,\n        \"max\": null,\n        \"num_unique_values\": 0,\n        \"samples\": [],\n        \"semantic_type\": \"\",\n        \"description\": \"\"\n      }\n    },\n    {\n      \"column\": \"MDSF\",\n      \"properties\": {\n        \"dtype\": \"number\",\n        \"std\": null,\n        \"min\": null,\n        \"max\": null,\n        \"num_unique_values\": 0,\n        \"samples\": [],\n        \"semantic_type\": \"\",\n        \"description\": \"\"\n      }\n    }\n  ]\n}"
            }
          },
          "metadata": {},
          "execution_count": 84
        }
      ]
    },
    {
      "cell_type": "markdown",
      "source": [
        "##There are many irrelevant columns in this data frame which we will need to remove"
      ],
      "metadata": {
        "id": "ZJueDW2nTbZp"
      }
    },
    {
      "cell_type": "code",
      "source": [
        "df_ny.head()"
      ],
      "metadata": {
        "colab": {
          "base_uri": "https://localhost:8080/",
          "height": 206
        },
        "id": "8MCdMZGvDHXj",
        "outputId": "49012c61-85a3-473e-98ae-3e49a8758d72"
      },
      "execution_count": 85,
      "outputs": [
        {
          "output_type": "execute_result",
          "data": {
            "text/plain": [
              "       STATION                                 NAME   LATITUDE  LONGITUDE  \\\n",
              "0  USW00094728          NY CITY CENTRAL PARK, NY US  40.778980 -73.969250   \n",
              "1  US1NYWC0018                 ARMONK 0.3 SE, NY US  41.129960 -73.708161   \n",
              "2  US1NYNS0034               WANTAGH 0.3 ESE, NY US  40.666824 -73.505371   \n",
              "3  USW00054787  FARMINGDALE REPUBLIC AIRPORT, NY US  40.734430 -73.416370   \n",
              "4  US1NYNS0042             ALBERTSON 0.2 SSE, NY US  40.769131 -73.647484   \n",
              "\n",
              "   ELEVATION        DATE  DAPR  MDPR  PRCP  SNOW  SNWD  DASF  MDSF  \n",
              "0       42.7  2020-01-01   NaN   NaN  0.00   0.0   0.0   NaN   NaN  \n",
              "1      117.3  2020-01-01   NaN   NaN  0.06   0.0   0.0   NaN   NaN  \n",
              "2        4.3  2020-01-01   NaN   NaN  0.00   0.0   0.0   NaN   NaN  \n",
              "3       22.8  2020-01-01   NaN   NaN  0.00   NaN   NaN   NaN   NaN  \n",
              "4       43.3  2020-01-01   NaN   NaN  0.00   0.0   NaN   NaN   NaN  "
            ],
            "text/html": [
              "\n",
              "  <div id=\"df-0f5e64c4-bddc-4f40-b678-a463a1791928\" class=\"colab-df-container\">\n",
              "    <div>\n",
              "<style scoped>\n",
              "    .dataframe tbody tr th:only-of-type {\n",
              "        vertical-align: middle;\n",
              "    }\n",
              "\n",
              "    .dataframe tbody tr th {\n",
              "        vertical-align: top;\n",
              "    }\n",
              "\n",
              "    .dataframe thead th {\n",
              "        text-align: right;\n",
              "    }\n",
              "</style>\n",
              "<table border=\"1\" class=\"dataframe\">\n",
              "  <thead>\n",
              "    <tr style=\"text-align: right;\">\n",
              "      <th></th>\n",
              "      <th>STATION</th>\n",
              "      <th>NAME</th>\n",
              "      <th>LATITUDE</th>\n",
              "      <th>LONGITUDE</th>\n",
              "      <th>ELEVATION</th>\n",
              "      <th>DATE</th>\n",
              "      <th>DAPR</th>\n",
              "      <th>MDPR</th>\n",
              "      <th>PRCP</th>\n",
              "      <th>SNOW</th>\n",
              "      <th>SNWD</th>\n",
              "      <th>DASF</th>\n",
              "      <th>MDSF</th>\n",
              "    </tr>\n",
              "  </thead>\n",
              "  <tbody>\n",
              "    <tr>\n",
              "      <th>0</th>\n",
              "      <td>USW00094728</td>\n",
              "      <td>NY CITY CENTRAL PARK, NY US</td>\n",
              "      <td>40.778980</td>\n",
              "      <td>-73.969250</td>\n",
              "      <td>42.7</td>\n",
              "      <td>2020-01-01</td>\n",
              "      <td>NaN</td>\n",
              "      <td>NaN</td>\n",
              "      <td>0.00</td>\n",
              "      <td>0.0</td>\n",
              "      <td>0.0</td>\n",
              "      <td>NaN</td>\n",
              "      <td>NaN</td>\n",
              "    </tr>\n",
              "    <tr>\n",
              "      <th>1</th>\n",
              "      <td>US1NYWC0018</td>\n",
              "      <td>ARMONK 0.3 SE, NY US</td>\n",
              "      <td>41.129960</td>\n",
              "      <td>-73.708161</td>\n",
              "      <td>117.3</td>\n",
              "      <td>2020-01-01</td>\n",
              "      <td>NaN</td>\n",
              "      <td>NaN</td>\n",
              "      <td>0.06</td>\n",
              "      <td>0.0</td>\n",
              "      <td>0.0</td>\n",
              "      <td>NaN</td>\n",
              "      <td>NaN</td>\n",
              "    </tr>\n",
              "    <tr>\n",
              "      <th>2</th>\n",
              "      <td>US1NYNS0034</td>\n",
              "      <td>WANTAGH 0.3 ESE, NY US</td>\n",
              "      <td>40.666824</td>\n",
              "      <td>-73.505371</td>\n",
              "      <td>4.3</td>\n",
              "      <td>2020-01-01</td>\n",
              "      <td>NaN</td>\n",
              "      <td>NaN</td>\n",
              "      <td>0.00</td>\n",
              "      <td>0.0</td>\n",
              "      <td>0.0</td>\n",
              "      <td>NaN</td>\n",
              "      <td>NaN</td>\n",
              "    </tr>\n",
              "    <tr>\n",
              "      <th>3</th>\n",
              "      <td>USW00054787</td>\n",
              "      <td>FARMINGDALE REPUBLIC AIRPORT, NY US</td>\n",
              "      <td>40.734430</td>\n",
              "      <td>-73.416370</td>\n",
              "      <td>22.8</td>\n",
              "      <td>2020-01-01</td>\n",
              "      <td>NaN</td>\n",
              "      <td>NaN</td>\n",
              "      <td>0.00</td>\n",
              "      <td>NaN</td>\n",
              "      <td>NaN</td>\n",
              "      <td>NaN</td>\n",
              "      <td>NaN</td>\n",
              "    </tr>\n",
              "    <tr>\n",
              "      <th>4</th>\n",
              "      <td>US1NYNS0042</td>\n",
              "      <td>ALBERTSON 0.2 SSE, NY US</td>\n",
              "      <td>40.769131</td>\n",
              "      <td>-73.647484</td>\n",
              "      <td>43.3</td>\n",
              "      <td>2020-01-01</td>\n",
              "      <td>NaN</td>\n",
              "      <td>NaN</td>\n",
              "      <td>0.00</td>\n",
              "      <td>0.0</td>\n",
              "      <td>NaN</td>\n",
              "      <td>NaN</td>\n",
              "      <td>NaN</td>\n",
              "    </tr>\n",
              "  </tbody>\n",
              "</table>\n",
              "</div>\n",
              "    <div class=\"colab-df-buttons\">\n",
              "\n",
              "  <div class=\"colab-df-container\">\n",
              "    <button class=\"colab-df-convert\" onclick=\"convertToInteractive('df-0f5e64c4-bddc-4f40-b678-a463a1791928')\"\n",
              "            title=\"Convert this dataframe to an interactive table.\"\n",
              "            style=\"display:none;\">\n",
              "\n",
              "  <svg xmlns=\"http://www.w3.org/2000/svg\" height=\"24px\" viewBox=\"0 -960 960 960\">\n",
              "    <path d=\"M120-120v-720h720v720H120Zm60-500h600v-160H180v160Zm220 220h160v-160H400v160Zm0 220h160v-160H400v160ZM180-400h160v-160H180v160Zm440 0h160v-160H620v160ZM180-180h160v-160H180v160Zm440 0h160v-160H620v160Z\"/>\n",
              "  </svg>\n",
              "    </button>\n",
              "\n",
              "  <style>\n",
              "    .colab-df-container {\n",
              "      display:flex;\n",
              "      gap: 12px;\n",
              "    }\n",
              "\n",
              "    .colab-df-convert {\n",
              "      background-color: #E8F0FE;\n",
              "      border: none;\n",
              "      border-radius: 50%;\n",
              "      cursor: pointer;\n",
              "      display: none;\n",
              "      fill: #1967D2;\n",
              "      height: 32px;\n",
              "      padding: 0 0 0 0;\n",
              "      width: 32px;\n",
              "    }\n",
              "\n",
              "    .colab-df-convert:hover {\n",
              "      background-color: #E2EBFA;\n",
              "      box-shadow: 0px 1px 2px rgba(60, 64, 67, 0.3), 0px 1px 3px 1px rgba(60, 64, 67, 0.15);\n",
              "      fill: #174EA6;\n",
              "    }\n",
              "\n",
              "    .colab-df-buttons div {\n",
              "      margin-bottom: 4px;\n",
              "    }\n",
              "\n",
              "    [theme=dark] .colab-df-convert {\n",
              "      background-color: #3B4455;\n",
              "      fill: #D2E3FC;\n",
              "    }\n",
              "\n",
              "    [theme=dark] .colab-df-convert:hover {\n",
              "      background-color: #434B5C;\n",
              "      box-shadow: 0px 1px 3px 1px rgba(0, 0, 0, 0.15);\n",
              "      filter: drop-shadow(0px 1px 2px rgba(0, 0, 0, 0.3));\n",
              "      fill: #FFFFFF;\n",
              "    }\n",
              "  </style>\n",
              "\n",
              "    <script>\n",
              "      const buttonEl =\n",
              "        document.querySelector('#df-0f5e64c4-bddc-4f40-b678-a463a1791928 button.colab-df-convert');\n",
              "      buttonEl.style.display =\n",
              "        google.colab.kernel.accessAllowed ? 'block' : 'none';\n",
              "\n",
              "      async function convertToInteractive(key) {\n",
              "        const element = document.querySelector('#df-0f5e64c4-bddc-4f40-b678-a463a1791928');\n",
              "        const dataTable =\n",
              "          await google.colab.kernel.invokeFunction('convertToInteractive',\n",
              "                                                    [key], {});\n",
              "        if (!dataTable) return;\n",
              "\n",
              "        const docLinkHtml = 'Like what you see? Visit the ' +\n",
              "          '<a target=\"_blank\" href=https://colab.research.google.com/notebooks/data_table.ipynb>data table notebook</a>'\n",
              "          + ' to learn more about interactive tables.';\n",
              "        element.innerHTML = '';\n",
              "        dataTable['output_type'] = 'display_data';\n",
              "        await google.colab.output.renderOutput(dataTable, element);\n",
              "        const docLink = document.createElement('div');\n",
              "        docLink.innerHTML = docLinkHtml;\n",
              "        element.appendChild(docLink);\n",
              "      }\n",
              "    </script>\n",
              "  </div>\n",
              "\n",
              "\n",
              "<div id=\"df-e5713514-642b-4f4b-90f2-f1e658b54ad7\">\n",
              "  <button class=\"colab-df-quickchart\" onclick=\"quickchart('df-e5713514-642b-4f4b-90f2-f1e658b54ad7')\"\n",
              "            title=\"Suggest charts\"\n",
              "            style=\"display:none;\">\n",
              "\n",
              "<svg xmlns=\"http://www.w3.org/2000/svg\" height=\"24px\"viewBox=\"0 0 24 24\"\n",
              "     width=\"24px\">\n",
              "    <g>\n",
              "        <path d=\"M19 3H5c-1.1 0-2 .9-2 2v14c0 1.1.9 2 2 2h14c1.1 0 2-.9 2-2V5c0-1.1-.9-2-2-2zM9 17H7v-7h2v7zm4 0h-2V7h2v10zm4 0h-2v-4h2v4z\"/>\n",
              "    </g>\n",
              "</svg>\n",
              "  </button>\n",
              "\n",
              "<style>\n",
              "  .colab-df-quickchart {\n",
              "      --bg-color: #E8F0FE;\n",
              "      --fill-color: #1967D2;\n",
              "      --hover-bg-color: #E2EBFA;\n",
              "      --hover-fill-color: #174EA6;\n",
              "      --disabled-fill-color: #AAA;\n",
              "      --disabled-bg-color: #DDD;\n",
              "  }\n",
              "\n",
              "  [theme=dark] .colab-df-quickchart {\n",
              "      --bg-color: #3B4455;\n",
              "      --fill-color: #D2E3FC;\n",
              "      --hover-bg-color: #434B5C;\n",
              "      --hover-fill-color: #FFFFFF;\n",
              "      --disabled-bg-color: #3B4455;\n",
              "      --disabled-fill-color: #666;\n",
              "  }\n",
              "\n",
              "  .colab-df-quickchart {\n",
              "    background-color: var(--bg-color);\n",
              "    border: none;\n",
              "    border-radius: 50%;\n",
              "    cursor: pointer;\n",
              "    display: none;\n",
              "    fill: var(--fill-color);\n",
              "    height: 32px;\n",
              "    padding: 0;\n",
              "    width: 32px;\n",
              "  }\n",
              "\n",
              "  .colab-df-quickchart:hover {\n",
              "    background-color: var(--hover-bg-color);\n",
              "    box-shadow: 0 1px 2px rgba(60, 64, 67, 0.3), 0 1px 3px 1px rgba(60, 64, 67, 0.15);\n",
              "    fill: var(--button-hover-fill-color);\n",
              "  }\n",
              "\n",
              "  .colab-df-quickchart-complete:disabled,\n",
              "  .colab-df-quickchart-complete:disabled:hover {\n",
              "    background-color: var(--disabled-bg-color);\n",
              "    fill: var(--disabled-fill-color);\n",
              "    box-shadow: none;\n",
              "  }\n",
              "\n",
              "  .colab-df-spinner {\n",
              "    border: 2px solid var(--fill-color);\n",
              "    border-color: transparent;\n",
              "    border-bottom-color: var(--fill-color);\n",
              "    animation:\n",
              "      spin 1s steps(1) infinite;\n",
              "  }\n",
              "\n",
              "  @keyframes spin {\n",
              "    0% {\n",
              "      border-color: transparent;\n",
              "      border-bottom-color: var(--fill-color);\n",
              "      border-left-color: var(--fill-color);\n",
              "    }\n",
              "    20% {\n",
              "      border-color: transparent;\n",
              "      border-left-color: var(--fill-color);\n",
              "      border-top-color: var(--fill-color);\n",
              "    }\n",
              "    30% {\n",
              "      border-color: transparent;\n",
              "      border-left-color: var(--fill-color);\n",
              "      border-top-color: var(--fill-color);\n",
              "      border-right-color: var(--fill-color);\n",
              "    }\n",
              "    40% {\n",
              "      border-color: transparent;\n",
              "      border-right-color: var(--fill-color);\n",
              "      border-top-color: var(--fill-color);\n",
              "    }\n",
              "    60% {\n",
              "      border-color: transparent;\n",
              "      border-right-color: var(--fill-color);\n",
              "    }\n",
              "    80% {\n",
              "      border-color: transparent;\n",
              "      border-right-color: var(--fill-color);\n",
              "      border-bottom-color: var(--fill-color);\n",
              "    }\n",
              "    90% {\n",
              "      border-color: transparent;\n",
              "      border-bottom-color: var(--fill-color);\n",
              "    }\n",
              "  }\n",
              "</style>\n",
              "\n",
              "  <script>\n",
              "    async function quickchart(key) {\n",
              "      const quickchartButtonEl =\n",
              "        document.querySelector('#' + key + ' button');\n",
              "      quickchartButtonEl.disabled = true;  // To prevent multiple clicks.\n",
              "      quickchartButtonEl.classList.add('colab-df-spinner');\n",
              "      try {\n",
              "        const charts = await google.colab.kernel.invokeFunction(\n",
              "            'suggestCharts', [key], {});\n",
              "      } catch (error) {\n",
              "        console.error('Error during call to suggestCharts:', error);\n",
              "      }\n",
              "      quickchartButtonEl.classList.remove('colab-df-spinner');\n",
              "      quickchartButtonEl.classList.add('colab-df-quickchart-complete');\n",
              "    }\n",
              "    (() => {\n",
              "      let quickchartButtonEl =\n",
              "        document.querySelector('#df-e5713514-642b-4f4b-90f2-f1e658b54ad7 button');\n",
              "      quickchartButtonEl.style.display =\n",
              "        google.colab.kernel.accessAllowed ? 'block' : 'none';\n",
              "    })();\n",
              "  </script>\n",
              "</div>\n",
              "\n",
              "    </div>\n",
              "  </div>\n"
            ],
            "application/vnd.google.colaboratory.intrinsic+json": {
              "type": "dataframe",
              "variable_name": "df_ny",
              "summary": "{\n  \"name\": \"df_ny\",\n  \"rows\": 17465,\n  \"fields\": [\n    {\n      \"column\": \"STATION\",\n      \"properties\": {\n        \"dtype\": \"category\",\n        \"num_unique_values\": 20,\n        \"samples\": [\n          \"USW00094728\",\n          \"US1NYRL0013\",\n          \"US1NYQN0039\"\n        ],\n        \"semantic_type\": \"\",\n        \"description\": \"\"\n      }\n    },\n    {\n      \"column\": \"NAME\",\n      \"properties\": {\n        \"dtype\": \"category\",\n        \"num_unique_values\": 20,\n        \"samples\": [\n          \"NY CITY CENTRAL PARK, NY US\",\n          \"SPRING VALLEY 1.7 SSW, NY US\",\n          \"LITTLE NECK 0.3 SE, NY US\"\n        ],\n        \"semantic_type\": \"\",\n        \"description\": \"\"\n      }\n    },\n    {\n      \"column\": \"LATITUDE\",\n      \"properties\": {\n        \"dtype\": \"number\",\n        \"std\": 0.18921514329615877,\n        \"min\": 40.615654,\n        \"max\": 41.15012,\n        \"num_unique_values\": 20,\n        \"samples\": [\n          40.77898,\n          41.0916807,\n          40.7589466\n        ],\n        \"semantic_type\": \"\",\n        \"description\": \"\"\n      }\n    },\n    {\n      \"column\": \"LONGITUDE\",\n      \"properties\": {\n        \"dtype\": \"number\",\n        \"std\": 0.21056374127355215,\n        \"min\": -74.145561,\n        \"max\": -73.358045,\n        \"num_unique_values\": 20,\n        \"samples\": [\n          -73.96925,\n          -74.0593445,\n          -73.7289427\n        ],\n        \"semantic_type\": \"\",\n        \"description\": \"\"\n      }\n    },\n    {\n      \"column\": \"ELEVATION\",\n      \"properties\": {\n        \"dtype\": \"number\",\n        \"std\": 46.0879146553896,\n        \"min\": 2.1,\n        \"max\": 175.0,\n        \"num_unique_values\": 20,\n        \"samples\": [\n          42.7,\n          160.6,\n          69.2\n        ],\n        \"semantic_type\": \"\",\n        \"description\": \"\"\n      }\n    },\n    {\n      \"column\": \"DATE\",\n      \"properties\": {\n        \"dtype\": \"object\",\n        \"num_unique_values\": 1461,\n        \"samples\": [\n          \"2022-06-11\",\n          \"2023-01-10\",\n          \"2021-02-17\"\n        ],\n        \"semantic_type\": \"\",\n        \"description\": \"\"\n      }\n    },\n    {\n      \"column\": \"DAPR\",\n      \"properties\": {\n        \"dtype\": \"number\",\n        \"std\": 5.581494349982416,\n        \"min\": 2.0,\n        \"max\": 42.0,\n        \"num_unique_values\": 20,\n        \"samples\": [\n          2.0,\n          17.0,\n          31.0\n        ],\n        \"semantic_type\": \"\",\n        \"description\": \"\"\n      }\n    },\n    {\n      \"column\": \"MDPR\",\n      \"properties\": {\n        \"dtype\": \"number\",\n        \"std\": 1.25347969531954,\n        \"min\": 0.0,\n        \"max\": 7.0,\n        \"num_unique_values\": 95,\n        \"samples\": [\n          1.84,\n          0.05,\n          0.47\n        ],\n        \"semantic_type\": \"\",\n        \"description\": \"\"\n      }\n    },\n    {\n      \"column\": \"PRCP\",\n      \"properties\": {\n        \"dtype\": \"number\",\n        \"std\": 0.39687077553874966,\n        \"min\": 0.0,\n        \"max\": 9.45,\n        \"num_unique_values\": 288,\n        \"samples\": [\n          0.54,\n          1.4,\n          1.79\n        ],\n        \"semantic_type\": \"\",\n        \"description\": \"\"\n      }\n    },\n    {\n      \"column\": \"SNOW\",\n      \"properties\": {\n        \"dtype\": \"number\",\n        \"std\": 0.5205619302029456,\n        \"min\": 0.0,\n        \"max\": 16.0,\n        \"num_unique_values\": 64,\n        \"samples\": [\n          1.7,\n          2.8,\n          0.0\n        ],\n        \"semantic_type\": \"\",\n        \"description\": \"\"\n      }\n    },\n    {\n      \"column\": \"SNWD\",\n      \"properties\": {\n        \"dtype\": \"number\",\n        \"std\": 1.4654101050034152,\n        \"min\": 0.0,\n        \"max\": 18.0,\n        \"num_unique_values\": 81,\n        \"samples\": [\n          5.8,\n          0.0,\n          5.1\n        ],\n        \"semantic_type\": \"\",\n        \"description\": \"\"\n      }\n    },\n    {\n      \"column\": \"DASF\",\n      \"properties\": {\n        \"dtype\": \"number\",\n        \"std\": null,\n        \"min\": null,\n        \"max\": null,\n        \"num_unique_values\": 0,\n        \"samples\": [],\n        \"semantic_type\": \"\",\n        \"description\": \"\"\n      }\n    },\n    {\n      \"column\": \"MDSF\",\n      \"properties\": {\n        \"dtype\": \"number\",\n        \"std\": null,\n        \"min\": null,\n        \"max\": null,\n        \"num_unique_values\": 0,\n        \"samples\": [],\n        \"semantic_type\": \"\",\n        \"description\": \"\"\n      }\n    }\n  ]\n}"
            }
          },
          "metadata": {},
          "execution_count": 85
        }
      ]
    },
    {
      "cell_type": "markdown",
      "source": [
        "##Check data types,see if any data needs to be transformed.\n"
      ],
      "metadata": {
        "id": "At_KpmUpPE3a"
      }
    },
    {
      "cell_type": "code",
      "source": [
        "df_seattle.dtypes #Check data types"
      ],
      "metadata": {
        "colab": {
          "base_uri": "https://localhost:8080/"
        },
        "id": "nYi3iZMA6ENI",
        "outputId": "0b16795e-60ba-4a93-c2b8-d5cf39026212"
      },
      "execution_count": 86,
      "outputs": [
        {
          "output_type": "execute_result",
          "data": {
            "text/plain": [
              "STATION       object\n",
              "NAME          object\n",
              "LATITUDE     float64\n",
              "LONGITUDE    float64\n",
              "ELEVATION    float64\n",
              "DATE          object\n",
              "DAPR         float64\n",
              "MDPR         float64\n",
              "PRCP         float64\n",
              "SNOW         float64\n",
              "SNWD         float64\n",
              "DASF         float64\n",
              "MDSF         float64\n",
              "dtype: object"
            ]
          },
          "metadata": {},
          "execution_count": 86
        }
      ]
    },
    {
      "cell_type": "code",
      "source": [
        "df_ny.dtypes"
      ],
      "metadata": {
        "colab": {
          "base_uri": "https://localhost:8080/"
        },
        "id": "5MSmptHo6HJI",
        "outputId": "cd041620-f4b4-4382-e24e-110ea0af740d"
      },
      "execution_count": 87,
      "outputs": [
        {
          "output_type": "execute_result",
          "data": {
            "text/plain": [
              "STATION       object\n",
              "NAME          object\n",
              "LATITUDE     float64\n",
              "LONGITUDE    float64\n",
              "ELEVATION    float64\n",
              "DATE          object\n",
              "DAPR         float64\n",
              "MDPR         float64\n",
              "PRCP         float64\n",
              "SNOW         float64\n",
              "SNWD         float64\n",
              "DASF         float64\n",
              "MDSF         float64\n",
              "dtype: object"
            ]
          },
          "metadata": {},
          "execution_count": 87
        }
      ]
    },
    {
      "cell_type": "markdown",
      "source": [
        "###In this case the Date needs to be changed from an object into DateTime"
      ],
      "metadata": {
        "id": "Bv03TbRfTr07"
      }
    },
    {
      "cell_type": "markdown",
      "source": [
        "##Check the number of rows"
      ],
      "metadata": {
        "id": "0RPGYiO4Tu1w"
      }
    },
    {
      "cell_type": "code",
      "source": [
        "df_seattle.shape #check number of rows and columns"
      ],
      "metadata": {
        "colab": {
          "base_uri": "https://localhost:8080/"
        },
        "id": "V1vlE0nJ60dL",
        "outputId": "cf4a2b35-dc27-419d-d05e-c26d7f835198"
      },
      "execution_count": 88,
      "outputs": [
        {
          "output_type": "execute_result",
          "data": {
            "text/plain": [
              "(7003, 13)"
            ]
          },
          "metadata": {},
          "execution_count": 88
        }
      ]
    },
    {
      "cell_type": "code",
      "source": [
        "df_ny.shape #New York has more stations, will need to deal with this later"
      ],
      "metadata": {
        "colab": {
          "base_uri": "https://localhost:8080/"
        },
        "id": "VwYFgvVF65yU",
        "outputId": "f1d9f5b7-e4d5-4d19-c929-dc0a3696abba"
      },
      "execution_count": 89,
      "outputs": [
        {
          "output_type": "execute_result",
          "data": {
            "text/plain": [
              "(17465, 13)"
            ]
          },
          "metadata": {},
          "execution_count": 89
        }
      ]
    },
    {
      "cell_type": "markdown",
      "source": [
        "###New york data frame has many more entries. Both data frames must be made to have the same amount of rows before they are merged."
      ],
      "metadata": {
        "id": "luXyj3T_TxDT"
      }
    },
    {
      "cell_type": "markdown",
      "source": [
        "###Visualize and investigate data using matplotlib"
      ],
      "metadata": {
        "id": "5JTo_eEtUl8J"
      }
    },
    {
      "cell_type": "code",
      "source": [
        "fig, ax = plt.subplots()\n",
        "ax.scatter(df_seattle[\"DATE\"], df_seattle[\"PRCP\"])\n",
        "ax.set_ylabel(\"Precipitation\")\n",
        "ax.set_xlabel(\"Date\")\n",
        "fig.set_size_inches(15, 5)\n"
      ],
      "metadata": {
        "colab": {
          "base_uri": "https://localhost:8080/",
          "height": 473
        },
        "id": "mVzCdH7yUlQa",
        "outputId": "9a5f3d21-092f-4d63-8a44-6de2fe26e9cd"
      },
      "execution_count": 90,
      "outputs": [
        {
          "output_type": "display_data",
          "data": {
            "text/plain": [
              "<Figure size 1500x500 with 1 Axes>"
            ],
            "image/png": "[encoded data removed]"
          },
          "metadata": {}
        }
      ]
    },
    {
      "cell_type": "code",
      "source": [
        "fig, ax = plt.subplots()\n",
        "ax.scatter(df_ny[\"DATE\"], df_ny[\"PRCP\"])\n",
        "ax.set_ylabel(\"Precipitation\")\n",
        "ax.set_xlabel(\"Date\")\n",
        "fig.set_size_inches(15, 5)"
      ],
      "metadata": {
        "colab": {
          "base_uri": "https://localhost:8080/",
          "height": 473
        },
        "id": "dRflNjPAWCbI",
        "outputId": "018ae1c8-cd26-466e-a0dc-d0e82a829413"
      },
      "execution_count": 91,
      "outputs": [
        {
          "output_type": "display_data",
          "data": {
            "text/plain": [
              "<Figure size 1500x500 with 1 Axes>"
            ],
            "image/png": "[encoded data removed]"
          },
          "metadata": {}
        }
      ]
    },
    {
      "cell_type": "markdown",
      "source": [
        "##Based on the scatter plots, both cities seem to have similar amounts of rain, but New York has more extreme outliers"
      ],
      "metadata": {
        "id": "CUN0LQ_gWPl0"
      }
    },
    {
      "cell_type": "markdown",
      "source": [
        "##Convert Date column to datetime to make it easier to work with\n",
        "\n",
        "Afterwards, check for any Null values"
      ],
      "metadata": {
        "id": "xhO0jfHVPQkE"
      }
    },
    {
      "cell_type": "code",
      "source": [
        "df_seattle['DATE'] = pd.to_datetime(df_seattle['DATE']) #convert Date column to DateTime data type\n",
        "df_ny['DATE'] = pd.to_datetime(df_ny['DATE'])"
      ],
      "metadata": {
        "id": "h7ijyLlI5rWe"
      },
      "execution_count": 92,
      "outputs": []
    },
    {
      "cell_type": "code",
      "source": [
        "df_seattle.info()"
      ],
      "metadata": {
        "colab": {
          "base_uri": "https://localhost:8080/"
        },
        "id": "QUW4KcFx7BuN",
        "outputId": "29d673fb-4400-4b11-9826-aab06c2666a5"
      },
      "execution_count": 93,
      "outputs": [
        {
          "output_type": "stream",
          "name": "stdout",
          "text": [
            "<class 'pandas.core.frame.DataFrame'>\n",
            "RangeIndex: 7003 entries, 0 to 7002\n",
            "Data columns (total 13 columns):\n",
            " #   Column     Non-Null Count  Dtype         \n",
            "---  ------     --------------  -----         \n",
            " 0   STATION    7003 non-null   object        \n",
            " 1   NAME       7003 non-null   object        \n",
            " 2   LATITUDE   7003 non-null   float64       \n",
            " 3   LONGITUDE  7003 non-null   float64       \n",
            " 4   ELEVATION  7003 non-null   float64       \n",
            " 5   DATE       7003 non-null   datetime64[ns]\n",
            " 6   DAPR       143 non-null    float64       \n",
            " 7   MDPR       143 non-null    float64       \n",
            " 8   PRCP       6718 non-null   float64       \n",
            " 9   SNOW       3006 non-null   float64       \n",
            " 10  SNWD       1331 non-null   float64       \n",
            " 11  DASF       0 non-null      float64       \n",
            " 12  MDSF       0 non-null      float64       \n",
            "dtypes: datetime64[ns](1), float64(10), object(2)\n",
            "memory usage: 711.4+ KB\n"
          ]
        }
      ]
    },
    {
      "cell_type": "markdown",
      "source": [
        "###Remove columns that are irrelevant to the research question"
      ],
      "metadata": {
        "id": "N2Lqo8kfPkGi"
      }
    },
    {
      "cell_type": "code",
      "source": [
        "#remove all columns listed under 'bad columns'\n",
        "columns_remove = [\"ELEVATION\", \"DAPR\", \"MDPR\", \"SNOW\", \"SNWD\", \"DASF\", \"MDSF\"]\n",
        "df_seattle = df_seattle.drop(columns = columns_remove)\n",
        "df_ny = df_ny.drop(columns = columns_remove)"
      ],
      "metadata": {
        "id": "jc-d0n-3Am7y"
      },
      "execution_count": 94,
      "outputs": []
    },
    {
      "cell_type": "code",
      "source": [
        "df_seattle.info()"
      ],
      "metadata": {
        "colab": {
          "base_uri": "https://localhost:8080/"
        },
        "id": "KmIWfWvNBU6u",
        "outputId": "4eee50a4-0f6a-4baa-a2ba-da8ed7812b56"
      },
      "execution_count": 95,
      "outputs": [
        {
          "output_type": "stream",
          "name": "stdout",
          "text": [
            "<class 'pandas.core.frame.DataFrame'>\n",
            "RangeIndex: 7003 entries, 0 to 7002\n",
            "Data columns (total 6 columns):\n",
            " #   Column     Non-Null Count  Dtype         \n",
            "---  ------     --------------  -----         \n",
            " 0   STATION    7003 non-null   object        \n",
            " 1   NAME       7003 non-null   object        \n",
            " 2   LATITUDE   7003 non-null   float64       \n",
            " 3   LONGITUDE  7003 non-null   float64       \n",
            " 4   DATE       7003 non-null   datetime64[ns]\n",
            " 5   PRCP       6718 non-null   float64       \n",
            "dtypes: datetime64[ns](1), float64(3), object(2)\n",
            "memory usage: 328.4+ KB\n"
          ]
        }
      ]
    },
    {
      "cell_type": "markdown",
      "source": [
        "###New York data frame has more entries than Seattle Data frame. Reconcile this discrepancy by averaging all stations for each city"
      ],
      "metadata": {
        "id": "iLG-NzOSQFsj"
      }
    },
    {
      "cell_type": "code",
      "source": [
        "#Dealing with Station and number mismatch before join\n",
        "df_seattle_avg = df_seattle.groupby(by=\"DATE\", as_index = False)[\"PRCP\"].mean()\n",
        "df_ny_avg = df_ny.groupby(by=\"DATE\", as_index = False)[\"PRCP\"].mean()"
      ],
      "metadata": {
        "id": "3NtytFavEurw"
      },
      "execution_count": 96,
      "outputs": []
    },
    {
      "cell_type": "code",
      "source": [
        "print(len(df_ny_avg) == len(df_seattle_avg)) #Check that both data frames are same length"
      ],
      "metadata": {
        "colab": {
          "base_uri": "https://localhost:8080/"
        },
        "id": "WUWUWmRQFTgv",
        "outputId": "f4447972-9adb-42bb-95a3-9da36e4dfe71"
      },
      "execution_count": 97,
      "outputs": [
        {
          "output_type": "stream",
          "name": "stdout",
          "text": [
            "True\n"
          ]
        }
      ]
    },
    {
      "cell_type": "markdown",
      "source": [
        "Test proves that both data frames now contain the same number of entries"
      ],
      "metadata": {
        "id": "7QQeONyRXiN0"
      }
    },
    {
      "cell_type": "markdown",
      "source": [
        "#The Data frame is missing some values. Interpolate them, estimating what the missing values would be"
      ],
      "metadata": {
        "id": "kuAH43P7RORB"
      }
    },
    {
      "cell_type": "code",
      "source": [
        "#Use interpolate to fill in missing values\n",
        "df_ny_avg[\"precip_interpolate\"] = df_ny_avg[\"PRCP\"].interpolate()\n",
        "df_seattle_avg[\"precip_interpolate\"] = df_seattle_avg[\"PRCP\"].interpolate()\n",
        "df_ny_avg[\"precip_interpolate\"].isna().sum()\n",
        "df_seattle_avg[\"precip_interpolate\"].isna().sum()\n"
      ],
      "metadata": {
        "colab": {
          "base_uri": "https://localhost:8080/"
        },
        "id": "YOT0bnaXHg2l",
        "outputId": "0957cd8d-994f-4734-9e95-3d9d5708c233"
      },
      "execution_count": 98,
      "outputs": [
        {
          "output_type": "execute_result",
          "data": {
            "text/plain": [
              "0"
            ]
          },
          "metadata": {},
          "execution_count": 98
        }
      ]
    },
    {
      "cell_type": "markdown",
      "source": [
        "#Merge the Data Frames on the 'DATE' column"
      ],
      "metadata": {
        "id": "ub2OV8s7R1BM"
      }
    },
    {
      "cell_type": "code",
      "source": [
        "#Merge the data frames\n",
        "\n",
        "df_seattle_prcp = df_seattle_avg[['DATE','PRCP']]\n",
        "df_ny_prcp = df_ny_avg[['DATE','PRCP']] #Select the two desired columns from each data frame in preparation to join them\n",
        "\n",
        "\n",
        "\n",
        "\n",
        "df_merged = df_seattle_prcp.merge(df_ny_prcp, on = 'DATE', how = 'inner') #Merge the two data frames\n",
        "print(df_merged)\n",
        "\n"
      ],
      "metadata": {
        "colab": {
          "base_uri": "https://localhost:8080/"
        },
        "id": "p_B_zyiXJ-mH",
        "outputId": "ee2b5d4a-95ab-4df0-a37a-cad1b3b97f2b"
      },
      "execution_count": 99,
      "outputs": [
        {
          "output_type": "stream",
          "name": "stdout",
          "text": [
            "           DATE    PRCP_x    PRCP_y\n",
            "0    2020-01-01  0.162500  0.013333\n",
            "1    2020-01-02  0.181250  0.000000\n",
            "2    2020-01-03  0.267500  0.134444\n",
            "3    2020-01-04  0.172000  0.200000\n",
            "4    2020-01-05  0.168571  0.040000\n",
            "...         ...       ...       ...\n",
            "1456 2023-12-27  0.063333  0.051538\n",
            "1457 2023-12-28  0.240000  1.845000\n",
            "1458 2023-12-29  0.055000  0.103571\n",
            "1459 2023-12-30  0.042500  0.006429\n",
            "1460 2023-12-31  0.050000  0.000714\n",
            "\n",
            "[1461 rows x 3 columns]\n"
          ]
        }
      ]
    },
    {
      "cell_type": "markdown",
      "source": [
        "#Make Merged Data Frame tidy"
      ],
      "metadata": {
        "id": "kgcyN3omMw_q"
      }
    },
    {
      "cell_type": "code",
      "source": [
        "\n",
        "df_tidy = pd.melt(df_merged, id_vars = 'DATE', var_name = 'CITY', value_name = 'PRCP')\n",
        "\n",
        "df_tidy.loc[df_tidy['CITY'] == 'PRCP_x', 'CITY'] = 'seattle'\n",
        "df_tidy.loc[df_tidy['CITY'] == 'PRCP_y', 'CITY'] = 'new york'\n",
        "print(df_tidy)"
      ],
      "metadata": {
        "colab": {
          "base_uri": "https://localhost:8080/"
        },
        "id": "EWgaY1yEMwcT",
        "outputId": "62e156f8-7fbc-4a2c-883c-d432fb60ffa8"
      },
      "execution_count": 100,
      "outputs": [
        {
          "output_type": "stream",
          "name": "stdout",
          "text": [
            "           DATE      CITY      PRCP\n",
            "0    2020-01-01   seattle  0.162500\n",
            "1    2020-01-02   seattle  0.181250\n",
            "2    2020-01-03   seattle  0.267500\n",
            "3    2020-01-04   seattle  0.172000\n",
            "4    2020-01-05   seattle  0.168571\n",
            "...         ...       ...       ...\n",
            "2917 2023-12-27  new york  0.051538\n",
            "2918 2023-12-28  new york  1.845000\n",
            "2919 2023-12-29  new york  0.103571\n",
            "2920 2023-12-30  new york  0.006429\n",
            "2921 2023-12-31  new york  0.000714\n",
            "\n",
            "[2922 rows x 3 columns]\n"
          ]
        }
      ]
    },
    {
      "cell_type": "markdown",
      "source": [],
      "metadata": {
        "id": "LgR5UTWvB0U-"
      }
    },
    {
      "cell_type": "markdown",
      "source": [
        "##Rename columns for understandability and best practice"
      ],
      "metadata": {
        "id": "tSfl9D3nB1QF"
      }
    },
    {
      "cell_type": "code",
      "source": [
        "rename_dict = {\"DATE\":\"date\", \"CITY\":\"city\", \"PRCP\":\"precipitation\"}\n",
        "\n",
        "df = df_tidy.rename(columns=rename_dict)\n",
        "print(df)"
      ],
      "metadata": {
        "colab": {
          "base_uri": "https://localhost:8080/"
        },
        "id": "XJmaE9xYBVsh",
        "outputId": "1b175e8f-4779-492b-c7c2-e0df753b5b72"
      },
      "execution_count": 101,
      "outputs": [
        {
          "output_type": "stream",
          "name": "stdout",
          "text": [
            "           date      city  precipitation\n",
            "0    2020-01-01   seattle       0.162500\n",
            "1    2020-01-02   seattle       0.181250\n",
            "2    2020-01-03   seattle       0.267500\n",
            "3    2020-01-04   seattle       0.172000\n",
            "4    2020-01-05   seattle       0.168571\n",
            "...         ...       ...            ...\n",
            "2917 2023-12-27  new york       0.051538\n",
            "2918 2023-12-28  new york       1.845000\n",
            "2919 2023-12-29  new york       0.103571\n",
            "2920 2023-12-30  new york       0.006429\n",
            "2921 2023-12-31  new york       0.000714\n",
            "\n",
            "[2922 rows x 3 columns]\n"
          ]
        }
      ]
    },
    {
      "cell_type": "markdown",
      "source": [
        "##export new merged, cleaned and tidy csv"
      ],
      "metadata": {
        "id": "Jqlm1zSvSU9c"
      }
    },
    {
      "cell_type": "code",
      "source": [
        "df.to_csv(\"merged_weather_data.csv\", index = False)"
      ],
      "metadata": {
        "id": "OK4bZ7EDB3Nx"
      },
      "execution_count": 102,
      "outputs": []
    }
  ]
}
